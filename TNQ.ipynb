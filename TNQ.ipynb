{
 "cells": [
  {
   "cell_type": "code",
   "execution_count": 1,
   "id": "122355aa",
   "metadata": {},
   "outputs": [],
   "source": [
    "import pandas as pd"
   ]
  },
  {
   "cell_type": "code",
   "execution_count": 2,
   "id": "f2bebb13",
   "metadata": {},
   "outputs": [],
   "source": [
    "df =pd.read_csv('world_population.csv')"
   ]
  },
  {
   "cell_type": "code",
   "execution_count": 3,
   "id": "f8dd4e33",
   "metadata": {},
   "outputs": [
    {
     "data": {
      "text/html": [
       "<div>\n",
       "<style scoped>\n",
       "    .dataframe tbody tr th:only-of-type {\n",
       "        vertical-align: middle;\n",
       "    }\n",
       "\n",
       "    .dataframe tbody tr th {\n",
       "        vertical-align: top;\n",
       "    }\n",
       "\n",
       "    .dataframe thead th {\n",
       "        text-align: right;\n",
       "    }\n",
       "</style>\n",
       "<table border=\"1\" class=\"dataframe\">\n",
       "  <thead>\n",
       "    <tr style=\"text-align: right;\">\n",
       "      <th></th>\n",
       "      <th>Rank</th>\n",
       "      <th>CCA3</th>\n",
       "      <th>Country</th>\n",
       "      <th>Capital</th>\n",
       "      <th>Continent</th>\n",
       "      <th>2022 Population</th>\n",
       "      <th>2020 Population</th>\n",
       "      <th>2015 Population</th>\n",
       "      <th>2010 Population</th>\n",
       "      <th>2000 Population</th>\n",
       "      <th>1990 Population</th>\n",
       "      <th>1980 Population</th>\n",
       "      <th>1970 Population</th>\n",
       "      <th>Area (km²)</th>\n",
       "      <th>Density (per km²)</th>\n",
       "      <th>Growth Rate</th>\n",
       "      <th>World Population Percentage</th>\n",
       "    </tr>\n",
       "  </thead>\n",
       "  <tbody>\n",
       "    <tr>\n",
       "      <th>0</th>\n",
       "      <td>36</td>\n",
       "      <td>AFG</td>\n",
       "      <td>Afghanistan</td>\n",
       "      <td>Kabul</td>\n",
       "      <td>Asia</td>\n",
       "      <td>41128771</td>\n",
       "      <td>38972230</td>\n",
       "      <td>33753499</td>\n",
       "      <td>28189672</td>\n",
       "      <td>19542982</td>\n",
       "      <td>10694796</td>\n",
       "      <td>12486631</td>\n",
       "      <td>10752971</td>\n",
       "      <td>652230</td>\n",
       "      <td>63.0587</td>\n",
       "      <td>1.0257</td>\n",
       "      <td>0.52</td>\n",
       "    </tr>\n",
       "    <tr>\n",
       "      <th>1</th>\n",
       "      <td>138</td>\n",
       "      <td>ALB</td>\n",
       "      <td>Albania</td>\n",
       "      <td>Tirana</td>\n",
       "      <td>Europe</td>\n",
       "      <td>2842321</td>\n",
       "      <td>2866849</td>\n",
       "      <td>2882481</td>\n",
       "      <td>2913399</td>\n",
       "      <td>3182021</td>\n",
       "      <td>3295066</td>\n",
       "      <td>2941651</td>\n",
       "      <td>2324731</td>\n",
       "      <td>28748</td>\n",
       "      <td>98.8702</td>\n",
       "      <td>0.9957</td>\n",
       "      <td>0.04</td>\n",
       "    </tr>\n",
       "    <tr>\n",
       "      <th>2</th>\n",
       "      <td>34</td>\n",
       "      <td>DZA</td>\n",
       "      <td>Algeria</td>\n",
       "      <td>Algiers</td>\n",
       "      <td>Africa</td>\n",
       "      <td>44903225</td>\n",
       "      <td>43451666</td>\n",
       "      <td>39543154</td>\n",
       "      <td>35856344</td>\n",
       "      <td>30774621</td>\n",
       "      <td>25518074</td>\n",
       "      <td>18739378</td>\n",
       "      <td>13795915</td>\n",
       "      <td>2381741</td>\n",
       "      <td>18.8531</td>\n",
       "      <td>1.0164</td>\n",
       "      <td>0.56</td>\n",
       "    </tr>\n",
       "    <tr>\n",
       "      <th>3</th>\n",
       "      <td>213</td>\n",
       "      <td>ASM</td>\n",
       "      <td>American Samoa</td>\n",
       "      <td>Pago Pago</td>\n",
       "      <td>Oceania</td>\n",
       "      <td>44273</td>\n",
       "      <td>46189</td>\n",
       "      <td>51368</td>\n",
       "      <td>54849</td>\n",
       "      <td>58230</td>\n",
       "      <td>47818</td>\n",
       "      <td>32886</td>\n",
       "      <td>27075</td>\n",
       "      <td>199</td>\n",
       "      <td>222.4774</td>\n",
       "      <td>0.9831</td>\n",
       "      <td>0.00</td>\n",
       "    </tr>\n",
       "    <tr>\n",
       "      <th>4</th>\n",
       "      <td>203</td>\n",
       "      <td>AND</td>\n",
       "      <td>Andorra</td>\n",
       "      <td>Andorra la Vella</td>\n",
       "      <td>Europe</td>\n",
       "      <td>79824</td>\n",
       "      <td>77700</td>\n",
       "      <td>71746</td>\n",
       "      <td>71519</td>\n",
       "      <td>66097</td>\n",
       "      <td>53569</td>\n",
       "      <td>35611</td>\n",
       "      <td>19860</td>\n",
       "      <td>468</td>\n",
       "      <td>170.5641</td>\n",
       "      <td>1.0100</td>\n",
       "      <td>0.00</td>\n",
       "    </tr>\n",
       "  </tbody>\n",
       "</table>\n",
       "</div>"
      ],
      "text/plain": [
       "   Rank CCA3         Country           Capital Continent  2022 Population  \\\n",
       "0    36  AFG     Afghanistan             Kabul      Asia         41128771   \n",
       "1   138  ALB         Albania            Tirana    Europe          2842321   \n",
       "2    34  DZA         Algeria           Algiers    Africa         44903225   \n",
       "3   213  ASM  American Samoa         Pago Pago   Oceania            44273   \n",
       "4   203  AND         Andorra  Andorra la Vella    Europe            79824   \n",
       "\n",
       "   2020 Population  2015 Population  2010 Population  2000 Population  \\\n",
       "0         38972230         33753499         28189672         19542982   \n",
       "1          2866849          2882481          2913399          3182021   \n",
       "2         43451666         39543154         35856344         30774621   \n",
       "3            46189            51368            54849            58230   \n",
       "4            77700            71746            71519            66097   \n",
       "\n",
       "   1990 Population  1980 Population  1970 Population  Area (km²)  \\\n",
       "0         10694796         12486631         10752971      652230   \n",
       "1          3295066          2941651          2324731       28748   \n",
       "2         25518074         18739378         13795915     2381741   \n",
       "3            47818            32886            27075         199   \n",
       "4            53569            35611            19860         468   \n",
       "\n",
       "   Density (per km²)  Growth Rate  World Population Percentage  \n",
       "0            63.0587       1.0257                         0.52  \n",
       "1            98.8702       0.9957                         0.04  \n",
       "2            18.8531       1.0164                         0.56  \n",
       "3           222.4774       0.9831                         0.00  \n",
       "4           170.5641       1.0100                         0.00  "
      ]
     },
     "execution_count": 3,
     "metadata": {},
     "output_type": "execute_result"
    }
   ],
   "source": [
    "df.head()"
   ]
  },
  {
   "cell_type": "markdown",
   "id": "f1d8c196",
   "metadata": {},
   "source": [
    "## Exploratory data analysis"
   ]
  },
  {
   "cell_type": "code",
   "execution_count": 4,
   "id": "655bae8e",
   "metadata": {},
   "outputs": [
    {
     "name": "stdout",
     "output_type": "stream",
     "text": [
      "<class 'pandas.core.frame.DataFrame'>\n",
      "RangeIndex: 234 entries, 0 to 233\n",
      "Data columns (total 17 columns):\n",
      " #   Column                       Non-Null Count  Dtype  \n",
      "---  ------                       --------------  -----  \n",
      " 0   Rank                         234 non-null    int64  \n",
      " 1   CCA3                         234 non-null    object \n",
      " 2   Country                      234 non-null    object \n",
      " 3   Capital                      234 non-null    object \n",
      " 4   Continent                    234 non-null    object \n",
      " 5   2022 Population              234 non-null    int64  \n",
      " 6   2020 Population              234 non-null    int64  \n",
      " 7   2015 Population              234 non-null    int64  \n",
      " 8   2010 Population              234 non-null    int64  \n",
      " 9   2000 Population              234 non-null    int64  \n",
      " 10  1990 Population              234 non-null    int64  \n",
      " 11  1980 Population              234 non-null    int64  \n",
      " 12  1970 Population              234 non-null    int64  \n",
      " 13  Area (km²)                   234 non-null    int64  \n",
      " 14  Density (per km²)            234 non-null    float64\n",
      " 15  Growth Rate                  234 non-null    float64\n",
      " 16  World Population Percentage  234 non-null    float64\n",
      "dtypes: float64(3), int64(10), object(4)\n",
      "memory usage: 31.2+ KB\n"
     ]
    }
   ],
   "source": [
    "df.info()"
   ]
  },
  {
   "cell_type": "code",
   "execution_count": 5,
   "id": "f8555a36",
   "metadata": {},
   "outputs": [
    {
     "data": {
      "text/plain": [
       "Rank                           False\n",
       "CCA3                           False\n",
       "Country                        False\n",
       "Capital                        False\n",
       "Continent                      False\n",
       "2022 Population                False\n",
       "2020 Population                False\n",
       "2015 Population                False\n",
       "2010 Population                False\n",
       "2000 Population                False\n",
       "1990 Population                False\n",
       "1980 Population                False\n",
       "1970 Population                False\n",
       "Area (km²)                     False\n",
       "Density (per km²)              False\n",
       "Growth Rate                    False\n",
       "World Population Percentage    False\n",
       "dtype: bool"
      ]
     },
     "execution_count": 5,
     "metadata": {},
     "output_type": "execute_result"
    }
   ],
   "source": [
    "df.isnull().any()"
   ]
  },
  {
   "cell_type": "markdown",
   "id": "97c38596",
   "metadata": {},
   "source": [
    "Display all the countries in the dataset."
   ]
  },
  {
   "cell_type": "code",
   "execution_count": 6,
   "id": "6e44d787",
   "metadata": {},
   "outputs": [
    {
     "name": "stdout",
     "output_type": "stream",
     "text": [
      "All countries:\n",
      " {'Kenya', 'United States', 'Martinique', 'Namibia', 'Serbia', 'Venezuela', 'Costa Rica', 'Bangladesh', 'Ivory Coast', 'Kiribati', 'Madagascar', 'Maldives', 'Jersey', 'Marshall Islands', 'Morocco', 'Paraguay', 'Saudi Arabia', 'Sweden', 'Lebanon', 'Grenada', 'Ireland', 'Saint Martin', 'Mongolia', 'Bahamas', 'Vatican City', 'Nepal', 'Netherlands', 'Ecuador', 'India', 'North Macedonia', 'Switzerland', 'Romania', 'Western Sahara', 'Gambia', 'Kyrgyzstan', 'DR Congo', 'Iceland', 'Kazakhstan', 'Laos', 'Lesotho', 'Egypt', 'Finland', 'Benin', 'American Samoa', 'Barbados', 'Israel', 'Cuba', 'Falkland Islands', 'Zimbabwe', 'Seychelles', 'Burkina Faso', 'Singapore', 'Chad', 'Iran', 'Mali', 'Bulgaria', 'Ghana', 'Cape Verde', 'Senegal', 'Ethiopia', 'Portugal', 'Mexico', 'Guinea-Bissau', 'Mozambique', 'Papua New Guinea', 'United Kingdom', 'Wallis and Futuna', 'Germany', 'Cameroon', 'Fiji', 'Tunisia', 'Solomon Islands', 'Nauru', 'Zambia', 'Andorra', 'Colombia', 'Panama', 'Saint Lucia', 'Italy', 'Macau', 'Dominican Republic', 'Peru', 'Northern Mariana Islands', 'Angola', 'Bolivia', 'North Korea', 'Uruguay', 'Luxembourg', 'United States Virgin Islands', 'Saint Vincent and the Grenadines', 'South Africa', 'Curacao', 'Libya', 'Monaco', 'Yemen', 'Burundi', 'Gabon', 'South Korea', 'Eswatini', 'Turks and Caicos Islands', 'United Arab Emirates', 'Sao Tome and Principe', 'Mayotte', 'Cyprus', 'Ukraine', 'Turkmenistan', 'Syria', 'Uzbekistan', 'Puerto Rico', 'Malta', 'Armenia', 'Cayman Islands', 'Samoa', 'Hungary', 'Faroe Islands', 'Comoros', 'Brazil', 'Turkey', 'Uganda', 'Sudan', 'French Guiana', 'Guinea', 'Saint Barthelemy', 'Denmark', 'Guyana', 'El Salvador', 'Togo', 'Cambodia', 'Suriname', 'Thailand', 'Norway', 'Latvia', 'Tonga', 'Bermuda', 'Bhutan', 'Guadeloupe', 'Algeria', 'New Caledonia', 'Jamaica', 'Palau', 'Mauritius', 'Croatia', 'Belarus', 'Niger', 'Czech Republic', 'Hong Kong', 'Nigeria', 'Iraq', 'Argentina', 'Canada', 'Djibouti', 'Saint Pierre and Miquelon', 'Slovakia', 'Philippines', 'Jordan', 'Palestine', 'Russia', 'Bosnia and Herzegovina', 'Guernsey', 'Estonia', 'China', 'Aruba', 'Albania', 'Sierra Leone', 'Belgium', 'Tokelau', 'Oman', 'Poland', 'Tuvalu', 'South Sudan', 'Equatorial Guinea', 'Guatemala', 'Malawi', 'Mauritania', 'Myanmar', 'Niue', 'Cook Islands', 'Sri Lanka', 'Belize', 'New Zealand', 'San Marino', 'Kuwait', 'French Polynesia', 'Sint Maarten', 'Taiwan', 'Vanuatu', 'Tajikistan', 'Greenland', 'Republic of the Congo', 'Trinidad and Tobago', 'Honduras', 'Liberia', 'Georgia', 'Spain', 'Isle of Man', 'Lithuania', 'Reunion', 'Azerbaijan', 'Nicaragua', 'Rwanda', 'Gibraltar', 'Indonesia', 'France', 'Afghanistan', 'Japan', 'Montenegro', 'Guam', 'Pakistan', 'Timor-Leste', 'Botswana', 'Antigua and Barbuda', 'Dominica', 'Moldova', 'Austria', 'Vietnam', 'Tanzania', 'Anguilla', 'Australia', 'Saint Kitts and Nevis', 'Bahrain', 'Central African Republic', 'Qatar', 'Slovenia', 'British Virgin Islands', 'Greece', 'Brunei', 'Haiti', 'Eritrea', 'Chile', 'Liechtenstein', 'Montserrat', 'Micronesia', 'Somalia', 'Malaysia'} \n"
     ]
    }
   ],
   "source": [
    "import csv\n",
    "filename = \"world_population.csv\"\n",
    "\n",
    "fields = []\n",
    "rows = []\n",
    "\n",
    "with open(filename, \"r\") as csvfile:\n",
    "    csvreader = csv.reader(csvfile)\n",
    "    fields = next(csvreader)\n",
    "    for row in csvreader:\n",
    "        rows.append(row)\n",
    "\n",
    "print(f'All countries:\\n {set(i[2] for i in rows)} ')"
   ]
  },
  {
   "cell_type": "markdown",
   "id": "88a9c0b4",
   "metadata": {},
   "source": [
    "Display all the continents in the dataset. (Unique values only. No duplicates)"
   ]
  },
  {
   "cell_type": "code",
   "execution_count": 7,
   "id": "8a5d520e",
   "metadata": {},
   "outputs": [
    {
     "name": "stdout",
     "output_type": "stream",
     "text": [
      "All Continents:\n",
      " {'Europe', 'Oceania', 'South America', 'Africa', 'Asia', 'North America'} \n"
     ]
    }
   ],
   "source": [
    "import csv\n",
    "filename = \"world_population.csv\"\n",
    "\n",
    "fields = []\n",
    "rows = []\n",
    "\n",
    "with open(filename, \"r\") as csvfile:\n",
    "    csvreader = csv.reader(csvfile)\n",
    "    fields = next(csvreader)\n",
    "    for row in csvreader:\n",
    "        rows.append(row)\n",
    "\n",
    "print(f'All Continents:\\n {set(i[4] for i in rows)} ')"
   ]
  },
  {
   "cell_type": "markdown",
   "id": "8a2ecc66",
   "metadata": {},
   "source": [
    "Display all the Europian countries."
   ]
  },
  {
   "cell_type": "code",
   "execution_count": 8,
   "id": "18790462",
   "metadata": {},
   "outputs": [
    {
     "name": "stdout",
     "output_type": "stream",
     "text": [
      "All European Countries:\n",
      "{'United Kingdom', 'San Marino', 'Germany', 'Serbia', 'Denmark', 'Slovakia', 'Sweden', 'Jersey', 'Andorra', 'Ireland', 'Italy', 'Norway', 'Spain', 'Vatican City', 'Isle of Man', 'Lithuania', 'Latvia', 'Luxembourg', 'Switzerland', 'Netherlands', 'Gibraltar', 'North Macedonia', 'Romania', 'France', 'Montenegro', 'Monaco', 'Iceland', 'Croatia', 'Finland', 'Belarus', 'Czech Republic', 'Moldova', 'Austria', 'Cyprus', 'Russia', 'Ukraine', 'Bulgaria', 'Bosnia and Herzegovina', 'Guernsey', 'Estonia', 'Albania', 'Malta', 'Belgium', 'Slovenia', 'Greece', 'Liechtenstein', 'Poland', 'Hungary', 'Portugal', 'Faroe Islands'}\n"
     ]
    }
   ],
   "source": [
    "import csv\n",
    "filename = \"world_population.csv\"\n",
    "\n",
    "fields = []\n",
    "rows = []\n",
    "\n",
    "with open(filename, \"r\") as csvfile:\n",
    "    csvreader = csv.reader(csvfile)\n",
    "    fields = next(csvreader)\n",
    "    for row in csvreader:\n",
    "        rows.append(row)\n",
    "\n",
    "print(f'All European Countries:\\n{set( i[2] for i in list(filter(lambda i: i[4] == \"Europe\",rows)))}')"
   ]
  },
  {
   "cell_type": "markdown",
   "id": "7c9c4eec",
   "metadata": {},
   "source": [
    "Display all the countries where capitals starts with 'A'."
   ]
  },
  {
   "cell_type": "code",
   "execution_count": 9,
   "id": "bdd2d8c9",
   "metadata": {},
   "outputs": [
    {
     "name": "stdout",
     "output_type": "stream",
     "text": [
      "All countries with capitals startig with A:\n",
      "{'Cook Islands', 'Madagascar', 'Andorra', 'Paraguay', 'Netherlands', 'Algeria', 'United States Virgin Islands', 'Western Sahara', 'Nigeria', 'Argentina', 'United Arab Emirates', 'Jordan', 'Turkmenistan', 'Ghana', 'Samoa', 'Greece', 'Ethiopia', 'Eritrea', 'Niue', 'Turkey'}\n"
     ]
    }
   ],
   "source": [
    "import csv\n",
    "filename = \"world_population.csv\"\n",
    "\n",
    "fields = []\n",
    "rows = []\n",
    "\n",
    "with open(filename, \"r\") as csvfile:\n",
    "    csvreader = csv.reader(csvfile)\n",
    "    fields = next(csvreader)\n",
    "    for row in csvreader:\n",
    "        rows.append(row)\n",
    "\n",
    "print(f'All countries with capitals startig with A:\\n{set( i[2] for i in list(filter(lambda i: \"A\" in i[3], rows)))}')"
   ]
  },
  {
   "cell_type": "markdown",
   "id": "29caf659",
   "metadata": {},
   "source": [
    "Display all the countries where 2022 population is less than 4,000,000."
   ]
  },
  {
   "cell_type": "code",
   "execution_count": 10,
   "id": "0e4cf0aa",
   "metadata": {},
   "outputs": [
    {
     "name": "stdout",
     "output_type": "stream",
     "text": [
      "all the countries where 2022 population is less than 4,000,000:\n",
      "{'Honiara', 'Maseru', 'Windhoek', 'Suva', 'Vilnius', 'Vatican City', 'Charlotte Amalie', 'MalÃ©', 'Cayenne', 'Asmara', 'Belmopan', 'Marigot', 'Palikir', 'Castries', 'Basseterre', 'Kingston', 'Stanley', 'Brades', 'Dili', 'Mata-Utu', 'Avarua', 'Moroni', 'Victoria', 'Nassau', 'Hamilton', 'Apia', 'Luxembourg', 'Port Louis', 'Libreville', 'Monaco', 'Funafuti', 'Basse-Terre', 'The Valley', 'Valletta', 'Gustavia', 'Banjul', 'Vaduz', 'Nukunonu', 'Pago Pago', 'Tarawa', 'Papeete', \"Saint George's\", 'Yaren', 'Saint Peter Port', 'TÃ³rshavn', 'Saint-Denis', 'San Juan', 'Fort-de-France', 'Skopje', 'Bridgetown', 'Bissau', 'HagÃ¥tÃ±a', 'Saint-Pierre', 'Ulaanbaatar', 'Willemstad', 'Saipan', 'Port-Vila', 'Oranjestad', 'Tallinn', 'El AaiÃºn', 'George Town', 'Chisinau', 'ReykjavÃ\\xadk', 'Mbabane', 'Podgorica', 'Saint Johnâ€™s', 'Djibouti', 'Douglas', 'Nicosia', 'Praia', 'Mamoudzou', 'Paramaribo', 'Tirana', 'Yerevan', 'Manama', 'Saint Helier', 'SÃ£o TomÃ©', 'Majuro', 'Ngerulmud', 'Kingstown', 'Gaborone', 'Port-of-Spain', 'Ljubljana', 'San Marino', 'Bandar Seri Begawan', 'Road Town', 'Riga', 'Nuuk', 'Alofi', 'Philipsburg', 'Gibraltar', 'Thimphu', 'Malabo', 'Nukuâ€˜alofa', 'Tbilisi', 'Cockburn Town', 'Georgetown', 'Sarajevo', 'NoumÃ©a', 'Roseau', 'Andorra la Vella', 'Montevideo', 'Doha', 'Concelho de Macau'}\n"
     ]
    }
   ],
   "source": [
    "import csv\n",
    "filename = \"world_population.csv\"\n",
    "\n",
    "fields = []\n",
    "rows = []\n",
    "\n",
    "with open(filename, \"r\") as csvfile:\n",
    "    csvreader = csv.reader(csvfile)\n",
    "    fields = next(csvreader)\n",
    "    for row in csvreader:\n",
    "        rows.append(row)\n",
    "\n",
    "print(f'all the countries where 2022 population is less than 4,000,000:\\n{set( i[3] for i in list(filter(lambda i: int(i[5]) < 4000000,rows)))}')"
   ]
  },
  {
   "cell_type": "markdown",
   "id": "56f9a638",
   "metadata": {},
   "source": [
    "Display the country with world's largest population in 2022."
   ]
  },
  {
   "cell_type": "code",
   "execution_count": 11,
   "id": "601cb839",
   "metadata": {},
   "outputs": [
    {
     "name": "stdout",
     "output_type": "stream",
     "text": [
      "The country with the worlds largest population in 2022:\n",
      "China\n"
     ]
    }
   ],
   "source": [
    "import csv\n",
    "filename = \"world_population.csv\"\n",
    "\n",
    "fields = []\n",
    "rows = []\n",
    "\n",
    "with open(filename, \"r\") as csvfile:\n",
    "    csvreader = csv.reader(csvfile)\n",
    "    fields = next(csvreader)\n",
    "    for row in csvreader:\n",
    "        rows.append(row)\n",
    "print(f'The country with the worlds largest population in 2022:\\n{list(filter(lambda i: int(i[5]) == max(list(int(i[5]) for i in rows)),rows))[0][2]}')"
   ]
  },
  {
   "cell_type": "markdown",
   "id": "3414013d",
   "metadata": {},
   "source": [
    "Display the country with world's smallest populations in 2022."
   ]
  },
  {
   "cell_type": "code",
   "execution_count": 12,
   "id": "d6487380",
   "metadata": {},
   "outputs": [
    {
     "name": "stdout",
     "output_type": "stream",
     "text": [
      "The country with the worlds smallest population in 2022:\n",
      "Vatican City\n"
     ]
    }
   ],
   "source": [
    "import csv\n",
    "filename = \"world_population.csv\"\n",
    "\n",
    "fields = []\n",
    "rows = []\n",
    "\n",
    "with open(filename, \"r\") as csvfile:\n",
    "    csvreader = csv.reader(csvfile)\n",
    "    fields = next(csvreader)\n",
    "    for row in csvreader:\n",
    "        rows.append(row)\n",
    "print(f'The country with the worlds smallest population in 2022:\\n{list(filter(lambda i: int(i[5]) == min(list(int(i[5]) for i in rows)),rows))[0][2]}')"
   ]
  },
  {
   "cell_type": "markdown",
   "id": "ea71c582",
   "metadata": {},
   "source": [
    "Display the country with world's fastest growth rate."
   ]
  },
  {
   "cell_type": "code",
   "execution_count": 13,
   "id": "1140e514",
   "metadata": {},
   "outputs": [
    {
     "name": "stdout",
     "output_type": "stream",
     "text": [
      "Country with the fastest growth rate:\n",
      "Chisinau\n"
     ]
    }
   ],
   "source": [
    "import csv\n",
    "filename = \"world_population.csv\"\n",
    "\n",
    "fields = []\n",
    "rows = []\n",
    "\n",
    "with open(filename, \"r\") as csvfile:\n",
    "    csvreader = csv.reader(csvfile)\n",
    "    fields = next(csvreader)\n",
    "    for row in csvreader:\n",
    "        rows.append(row)\n",
    "print(f'Country with the fastest growth rate:\\n{list(set(i[3] for i in filter(lambda i: float(i[15]) == max([float(i[15]) for i in rows]),rows)))[0]}')"
   ]
  },
  {
   "cell_type": "markdown",
   "id": "1d291858",
   "metadata": {},
   "source": [
    "Display the first three countries with world's highest population density per squre km area."
   ]
  },
  {
   "cell_type": "code",
   "execution_count": 14,
   "id": "d082f548",
   "metadata": {},
   "outputs": [
    {
     "name": "stdout",
     "output_type": "stream",
     "text": [
      "The first three countries with the highest population density: \n",
      "Concelho de Macau\n",
      "Monaco\n",
      "Singapore\n"
     ]
    }
   ],
   "source": [
    "import csv\n",
    "filename = \"world_population.csv\"\n",
    "\n",
    "fields = []\n",
    "rows = []\n",
    "\n",
    "with open(filename, \"r\") as csvfile:\n",
    "    csvreader = csv.reader(csvfile)\n",
    "    fields = next(csvreader)\n",
    "    for row in csvreader:\n",
    "        rows.append(row)\n",
    "# sort densities from largest to smallest and store in variable\n",
    "densities = sorted(list(float(i[14]) for i in rows),reverse=True)\n",
    "print('The first three countries with the highest population density: ')\n",
    "for x in range(0,3):\n",
    "    print(list(i[3] for i in filter(lambda i: float(i[14]) == densities[x],rows))[0])"
   ]
  },
  {
   "cell_type": "markdown",
   "id": "e2e5d731",
   "metadata": {},
   "source": [
    "Find world population percentage in each continent and write that information into a csv file as a table of 2 columns: Continent,World Population Percentage"
   ]
  },
  {
   "cell_type": "code",
   "execution_count": 15,
   "id": "76c5ce14",
   "metadata": {},
   "outputs": [
    {
     "name": "stdout",
     "output_type": "stream",
     "text": [
      "Successfully created file population_percentages_continents.csv\n"
     ]
    }
   ],
   "source": [
    "import csv\n",
    "import collections\n",
    "\n",
    "filename = \"world_population.csv\"\n",
    "\n",
    "fields = []\n",
    "rows = []\n",
    "\n",
    "with open(filename, \"r\") as csvfile:\n",
    "    csvreader = csv.reader(csvfile)\n",
    "    fields = next(csvreader)\n",
    "    for row in csvreader:\n",
    "        rows.append(row)\n",
    "\n",
    "counter = collections.Counter()\n",
    "\n",
    "for row in rows:\n",
    "    counter[row[4]] += float(row[len(fields)-1])\n",
    "filename = \"population_percentages_continents.csv\"\n",
    "fields = ['Continent','World Population Percentage']\n",
    "rows = [[s,counter[s]] for s in counter]\n",
    "with open(filename,'w',newline='') as csvfile:\n",
    "    csvwriter = csv.writer(csvfile)\n",
    "    \n",
    "    csvwriter.writerow(fields)\n",
    "    csvwriter.writerows(rows)\n",
    "    \n",
    "    print(f'Successfully created file {filename}')\n",
    "    "
   ]
  },
  {
   "cell_type": "code",
   "execution_count": null,
   "id": "59aeb18d",
   "metadata": {},
   "outputs": [],
   "source": []
  }
 ],
 "metadata": {
  "kernelspec": {
   "display_name": "Python 3 (ipykernel)",
   "language": "python",
   "name": "python3"
  },
  "language_info": {
   "codemirror_mode": {
    "name": "ipython",
    "version": 3
   },
   "file_extension": ".py",
   "mimetype": "text/x-python",
   "name": "python",
   "nbconvert_exporter": "python",
   "pygments_lexer": "ipython3",
   "version": "3.9.7"
  }
 },
 "nbformat": 4,
 "nbformat_minor": 5
}
